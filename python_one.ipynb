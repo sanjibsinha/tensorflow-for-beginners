{
  "nbformat": 4,
  "nbformat_minor": 0,
  "metadata": {
    "colab": {
      "name": "python_one.ipynb",
      "provenance": [],
      "authorship_tag": "ABX9TyN2E8UAsaV56SVGiTQbXJ2L",
      "include_colab_link": true
    },
    "kernelspec": {
      "name": "python3",
      "display_name": "Python 3"
    },
    "language_info": {
      "name": "python"
    }
  },
  "cells": [
    {
      "cell_type": "markdown",
      "metadata": {
        "id": "view-in-github",
        "colab_type": "text"
      },
      "source": [
        "<a href=\"https://colab.research.google.com/github/sanjibsinha/tensorflow-for-beginners/blob/numpy-matplotlib-pandas/python_one.ipynb\" target=\"_parent\"><img src=\"https://colab.research.google.com/assets/colab-badge.svg\" alt=\"Open In Colab\"/></a>"
      ]
    },
    {
      "cell_type": "code",
      "execution_count": 1,
      "metadata": {
        "id": "-af92pCha5XL"
      },
      "outputs": [],
      "source": [
        "class Bear:\n",
        "    age = 10\n",
        "    \n",
        "    def introduce(self):\n",
        "        print(\"I am Bear.\")\n",
        "    \n",
        "    def eat(self):\n",
        "        print(\"I am eating.\")"
      ]
    },
    {
      "cell_type": "code",
      "source": [
        "print(Bear.age) \n",
        "# output: 10\n",
        "\n",
        "print(Bear.introduce) \n",
        "# output: <function Bear.introduce at 0x7f251c1d99e0>\n",
        "\n",
        "print(Bear.eat) \n",
        "# output: <function Bear.eat at 0x7f251c1d9710>"
      ],
      "metadata": {
        "colab": {
          "base_uri": "https://localhost:8080/"
        },
        "id": "04fPfXAebAqe",
        "outputId": "e5745889-7951-4a33-eebe-e44c207b602d"
      },
      "execution_count": 2,
      "outputs": [
        {
          "output_type": "stream",
          "name": "stdout",
          "text": [
            "10\n",
            "<function Bear.introduce at 0x7f251c1d99e0>\n",
            "<function Bear.eat at 0x7f251c1d9710>\n"
          ]
        }
      ]
    },
    {
      "cell_type": "code",
      "source": [
        "class Bear:\n",
        "    age = 10\n",
        "    time = 0\n",
        "    \n",
        "    def get_the_present_age(self):\n",
        "        print(f\"My age is {self.age}\")\n",
        "    \n",
        "    def grow_with_time(self, time):\n",
        "        self.age = self.age + time\n",
        "        print(f\"I'm growing up. After {time} years, my age is {self.age}\")\n",
        "        \n",
        "bear = Bear()\n",
        "bear.get_the_present_age()\n",
        "bear.grow_with_time(2)"
      ],
      "metadata": {
        "colab": {
          "base_uri": "https://localhost:8080/"
        },
        "id": "j7-E6ylibONJ",
        "outputId": "25d54177-0d77-4465-b42e-25e9787d0b13"
      },
      "execution_count": 3,
      "outputs": [
        {
          "output_type": "stream",
          "name": "stdout",
          "text": [
            "My age is 10\n",
            "I'm growing up. After 2 years, my age is 12\n"
          ]
        }
      ]
    },
    {
      "cell_type": "code",
      "source": [
        ""
      ],
      "metadata": {
        "id": "rzeZb4FFbYPe"
      },
      "execution_count": null,
      "outputs": []
    }
  ]
}