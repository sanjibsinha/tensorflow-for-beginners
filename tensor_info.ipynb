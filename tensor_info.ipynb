{
  "nbformat": 4,
  "nbformat_minor": 0,
  "metadata": {
    "colab": {
      "name": "tensor-info.ipynb",
      "provenance": [],
      "collapsed_sections": [],
      "authorship_tag": "ABX9TyMwGZn+1nudhgNarMj8QZtA",
      "include_colab_link": true
    },
    "kernelspec": {
      "name": "python3",
      "display_name": "Python 3"
    },
    "language_info": {
      "name": "python"
    }
  },
  "cells": [
    {
      "cell_type": "markdown",
      "metadata": {
        "id": "view-in-github",
        "colab_type": "text"
      },
      "source": [
        "<a href=\"https://colab.research.google.com/github/sanjibsinha/tensorflow-for-beginners/blob/first-disorder/tensor_info.ipynb\" target=\"_parent\"><img src=\"https://colab.research.google.com/assets/colab-badge.svg\" alt=\"Open In Colab\"/></a>"
      ]
    },
    {
      "cell_type": "code",
      "execution_count": 1,
      "metadata": {
        "colab": {
          "base_uri": "https://localhost:8080/"
        },
        "id": "ZzzK7PauRCk_",
        "outputId": "7d8e4163-17c5-4736-d674-70d78cf275c2"
      },
      "outputs": [
        {
          "output_type": "execute_result",
          "data": {
            "text/plain": [
              "<module 'tensorflow' from '/usr/local/lib/python3.7/dist-packages/tensorflow/__init__.py'>"
            ]
          },
          "metadata": {},
          "execution_count": 1
        }
      ],
      "source": [
        "import tensorflow as tf\n",
        "tf"
      ]
    },
    {
      "cell_type": "code",
      "source": [
        "# Create a rank 5 tensor (5 dimensions)\n",
        "rank_five_tensor = tf.zeros([2, 3, 4, 5, 6])\n",
        "rank_five_tensor"
      ],
      "metadata": {
        "colab": {
          "base_uri": "https://localhost:8080/"
        },
        "id": "2-plyc79ROQs",
        "outputId": "0682cfec-955c-45cd-dbff-63be51cb3a60"
      },
      "execution_count": 4,
      "outputs": [
        {
          "output_type": "execute_result",
          "data": {
            "text/plain": [
              "<tf.Tensor: shape=(2, 3, 4, 5, 6), dtype=float32, numpy=\n",
              "array([[[[[0., 0., 0., 0., 0., 0.],\n",
              "          [0., 0., 0., 0., 0., 0.],\n",
              "          [0., 0., 0., 0., 0., 0.],\n",
              "          [0., 0., 0., 0., 0., 0.],\n",
              "          [0., 0., 0., 0., 0., 0.]],\n",
              "\n",
              "         [[0., 0., 0., 0., 0., 0.],\n",
              "          [0., 0., 0., 0., 0., 0.],\n",
              "          [0., 0., 0., 0., 0., 0.],\n",
              "          [0., 0., 0., 0., 0., 0.],\n",
              "          [0., 0., 0., 0., 0., 0.]],\n",
              "\n",
              "         [[0., 0., 0., 0., 0., 0.],\n",
              "          [0., 0., 0., 0., 0., 0.],\n",
              "          [0., 0., 0., 0., 0., 0.],\n",
              "          [0., 0., 0., 0., 0., 0.],\n",
              "          [0., 0., 0., 0., 0., 0.]],\n",
              "\n",
              "         [[0., 0., 0., 0., 0., 0.],\n",
              "          [0., 0., 0., 0., 0., 0.],\n",
              "          [0., 0., 0., 0., 0., 0.],\n",
              "          [0., 0., 0., 0., 0., 0.],\n",
              "          [0., 0., 0., 0., 0., 0.]]],\n",
              "\n",
              "\n",
              "        [[[0., 0., 0., 0., 0., 0.],\n",
              "          [0., 0., 0., 0., 0., 0.],\n",
              "          [0., 0., 0., 0., 0., 0.],\n",
              "          [0., 0., 0., 0., 0., 0.],\n",
              "          [0., 0., 0., 0., 0., 0.]],\n",
              "\n",
              "         [[0., 0., 0., 0., 0., 0.],\n",
              "          [0., 0., 0., 0., 0., 0.],\n",
              "          [0., 0., 0., 0., 0., 0.],\n",
              "          [0., 0., 0., 0., 0., 0.],\n",
              "          [0., 0., 0., 0., 0., 0.]],\n",
              "\n",
              "         [[0., 0., 0., 0., 0., 0.],\n",
              "          [0., 0., 0., 0., 0., 0.],\n",
              "          [0., 0., 0., 0., 0., 0.],\n",
              "          [0., 0., 0., 0., 0., 0.],\n",
              "          [0., 0., 0., 0., 0., 0.]],\n",
              "\n",
              "         [[0., 0., 0., 0., 0., 0.],\n",
              "          [0., 0., 0., 0., 0., 0.],\n",
              "          [0., 0., 0., 0., 0., 0.],\n",
              "          [0., 0., 0., 0., 0., 0.],\n",
              "          [0., 0., 0., 0., 0., 0.]]],\n",
              "\n",
              "\n",
              "        [[[0., 0., 0., 0., 0., 0.],\n",
              "          [0., 0., 0., 0., 0., 0.],\n",
              "          [0., 0., 0., 0., 0., 0.],\n",
              "          [0., 0., 0., 0., 0., 0.],\n",
              "          [0., 0., 0., 0., 0., 0.]],\n",
              "\n",
              "         [[0., 0., 0., 0., 0., 0.],\n",
              "          [0., 0., 0., 0., 0., 0.],\n",
              "          [0., 0., 0., 0., 0., 0.],\n",
              "          [0., 0., 0., 0., 0., 0.],\n",
              "          [0., 0., 0., 0., 0., 0.]],\n",
              "\n",
              "         [[0., 0., 0., 0., 0., 0.],\n",
              "          [0., 0., 0., 0., 0., 0.],\n",
              "          [0., 0., 0., 0., 0., 0.],\n",
              "          [0., 0., 0., 0., 0., 0.],\n",
              "          [0., 0., 0., 0., 0., 0.]],\n",
              "\n",
              "         [[0., 0., 0., 0., 0., 0.],\n",
              "          [0., 0., 0., 0., 0., 0.],\n",
              "          [0., 0., 0., 0., 0., 0.],\n",
              "          [0., 0., 0., 0., 0., 0.],\n",
              "          [0., 0., 0., 0., 0., 0.]]]],\n",
              "\n",
              "\n",
              "\n",
              "       [[[[0., 0., 0., 0., 0., 0.],\n",
              "          [0., 0., 0., 0., 0., 0.],\n",
              "          [0., 0., 0., 0., 0., 0.],\n",
              "          [0., 0., 0., 0., 0., 0.],\n",
              "          [0., 0., 0., 0., 0., 0.]],\n",
              "\n",
              "         [[0., 0., 0., 0., 0., 0.],\n",
              "          [0., 0., 0., 0., 0., 0.],\n",
              "          [0., 0., 0., 0., 0., 0.],\n",
              "          [0., 0., 0., 0., 0., 0.],\n",
              "          [0., 0., 0., 0., 0., 0.]],\n",
              "\n",
              "         [[0., 0., 0., 0., 0., 0.],\n",
              "          [0., 0., 0., 0., 0., 0.],\n",
              "          [0., 0., 0., 0., 0., 0.],\n",
              "          [0., 0., 0., 0., 0., 0.],\n",
              "          [0., 0., 0., 0., 0., 0.]],\n",
              "\n",
              "         [[0., 0., 0., 0., 0., 0.],\n",
              "          [0., 0., 0., 0., 0., 0.],\n",
              "          [0., 0., 0., 0., 0., 0.],\n",
              "          [0., 0., 0., 0., 0., 0.],\n",
              "          [0., 0., 0., 0., 0., 0.]]],\n",
              "\n",
              "\n",
              "        [[[0., 0., 0., 0., 0., 0.],\n",
              "          [0., 0., 0., 0., 0., 0.],\n",
              "          [0., 0., 0., 0., 0., 0.],\n",
              "          [0., 0., 0., 0., 0., 0.],\n",
              "          [0., 0., 0., 0., 0., 0.]],\n",
              "\n",
              "         [[0., 0., 0., 0., 0., 0.],\n",
              "          [0., 0., 0., 0., 0., 0.],\n",
              "          [0., 0., 0., 0., 0., 0.],\n",
              "          [0., 0., 0., 0., 0., 0.],\n",
              "          [0., 0., 0., 0., 0., 0.]],\n",
              "\n",
              "         [[0., 0., 0., 0., 0., 0.],\n",
              "          [0., 0., 0., 0., 0., 0.],\n",
              "          [0., 0., 0., 0., 0., 0.],\n",
              "          [0., 0., 0., 0., 0., 0.],\n",
              "          [0., 0., 0., 0., 0., 0.]],\n",
              "\n",
              "         [[0., 0., 0., 0., 0., 0.],\n",
              "          [0., 0., 0., 0., 0., 0.],\n",
              "          [0., 0., 0., 0., 0., 0.],\n",
              "          [0., 0., 0., 0., 0., 0.],\n",
              "          [0., 0., 0., 0., 0., 0.]]],\n",
              "\n",
              "\n",
              "        [[[0., 0., 0., 0., 0., 0.],\n",
              "          [0., 0., 0., 0., 0., 0.],\n",
              "          [0., 0., 0., 0., 0., 0.],\n",
              "          [0., 0., 0., 0., 0., 0.],\n",
              "          [0., 0., 0., 0., 0., 0.]],\n",
              "\n",
              "         [[0., 0., 0., 0., 0., 0.],\n",
              "          [0., 0., 0., 0., 0., 0.],\n",
              "          [0., 0., 0., 0., 0., 0.],\n",
              "          [0., 0., 0., 0., 0., 0.],\n",
              "          [0., 0., 0., 0., 0., 0.]],\n",
              "\n",
              "         [[0., 0., 0., 0., 0., 0.],\n",
              "          [0., 0., 0., 0., 0., 0.],\n",
              "          [0., 0., 0., 0., 0., 0.],\n",
              "          [0., 0., 0., 0., 0., 0.],\n",
              "          [0., 0., 0., 0., 0., 0.]],\n",
              "\n",
              "         [[0., 0., 0., 0., 0., 0.],\n",
              "          [0., 0., 0., 0., 0., 0.],\n",
              "          [0., 0., 0., 0., 0., 0.],\n",
              "          [0., 0., 0., 0., 0., 0.],\n",
              "          [0., 0., 0., 0., 0., 0.]]]]], dtype=float32)>"
            ]
          },
          "metadata": {},
          "execution_count": 4
        }
      ]
    },
    {
      "cell_type": "code",
      "source": [
        "rank_five_tensor.shape, rank_five_tensor.ndim, tf.size(rank_five_tensor)"
      ],
      "metadata": {
        "colab": {
          "base_uri": "https://localhost:8080/"
        },
        "id": "i-MdVVl4R_uo",
        "outputId": "279e2fd2-d1e0-4213-d905-60af528cfa8d"
      },
      "execution_count": 5,
      "outputs": [
        {
          "output_type": "execute_result",
          "data": {
            "text/plain": [
              "(TensorShape([2, 3, 4, 5, 6]),\n",
              " 5,\n",
              " <tf.Tensor: shape=(), dtype=int32, numpy=720>)"
            ]
          },
          "metadata": {},
          "execution_count": 5
        }
      ]
    },
    {
      "cell_type": "code",
      "source": [
        "# Getting various attributes of the tensor\n",
        "print(\"Datatype of each element:\", rank_five_tensor.dtype)\n",
        "print(\"Number of dimensions which is known as rank:\", rank_five_tensor.ndim)\n",
        "print(\"The Shape of tensor:\", rank_five_tensor.shape)\n",
        "print(\"Elements along axis 0 of the tensor:\", rank_five_tensor.shape[0])\n",
        "print(\"Elements along last axis of the tensor:\", rank_five_tensor.shape[-1])\n",
        "print(\"Total number of elements (2*3*4*5*6):\", tf.size(rank_five_tensor).numpy()) # .numpy() method converts to NumPy array"
      ],
      "metadata": {
        "colab": {
          "base_uri": "https://localhost:8080/"
        },
        "id": "9pfUxxzOSNk_",
        "outputId": "e7f5e88d-8f28-4b9c-8d44-459fbf96bd65"
      },
      "execution_count": 6,
      "outputs": [
        {
          "output_type": "stream",
          "name": "stdout",
          "text": [
            "Datatype of each element: <dtype: 'float32'>\n",
            "Number of dimensions which is known as rank: 5\n",
            "The Shape of tensor: (2, 3, 4, 5, 6)\n",
            "Elements along axis 0 of the tensor: 2\n",
            "Elements along last axis of the tensor: 6\n",
            "Total number of elements (2*3*4*5*6): 720\n"
          ]
        }
      ]
    },
    {
      "cell_type": "code",
      "source": [
        "# Get the first 1 item of each dimension\n",
        "rank_five_tensor[:1, :1, :1, :1, :1]"
      ],
      "metadata": {
        "colab": {
          "base_uri": "https://localhost:8080/"
        },
        "id": "X_Le2rDsSpry",
        "outputId": "086a7a0f-7394-4c81-e9c3-3777a0e788d5"
      },
      "execution_count": 7,
      "outputs": [
        {
          "output_type": "execute_result",
          "data": {
            "text/plain": [
              "<tf.Tensor: shape=(1, 1, 1, 1, 1), dtype=float32, numpy=array([[[[[0.]]]]], dtype=float32)>"
            ]
          },
          "metadata": {},
          "execution_count": 7
        }
      ]
    },
    {
      "cell_type": "code",
      "source": [
        "rank_five_tensor[:, :1, :1, :1]\n",
        "# getting the dimension from each index except for the first one"
      ],
      "metadata": {
        "colab": {
          "base_uri": "https://localhost:8080/"
        },
        "id": "X7ZSPSykTC1X",
        "outputId": "8b3ded46-32ec-4c72-dc7f-bb20f6f4ac6e"
      },
      "execution_count": 9,
      "outputs": [
        {
          "output_type": "execute_result",
          "data": {
            "text/plain": [
              "<tf.Tensor: shape=(2, 1, 1, 1, 6), dtype=float32, numpy=\n",
              "array([[[[[0., 0., 0., 0., 0., 0.]]]],\n",
              "\n",
              "\n",
              "\n",
              "       [[[[0., 0., 0., 0., 0., 0.]]]]], dtype=float32)>"
            ]
          },
          "metadata": {},
          "execution_count": 9
        }
      ]
    }
  ]
}