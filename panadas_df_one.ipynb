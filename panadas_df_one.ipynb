{
  "nbformat": 4,
  "nbformat_minor": 0,
  "metadata": {
    "colab": {
      "name": "panadas-df-one.ipynb",
      "provenance": [],
      "collapsed_sections": [],
      "authorship_tag": "ABX9TyPIp8LJbot5lJMcqiHD6WGQ",
      "include_colab_link": true
    },
    "kernelspec": {
      "name": "python3",
      "display_name": "Python 3"
    },
    "language_info": {
      "name": "python"
    }
  },
  "cells": [
    {
      "cell_type": "markdown",
      "metadata": {
        "id": "view-in-github",
        "colab_type": "text"
      },
      "source": [
        "<a href=\"https://colab.research.google.com/github/sanjibsinha/tensorflow-for-beginners/blob/google-colabs/panadas_df_one.ipynb\" target=\"_parent\"><img src=\"https://colab.research.google.com/assets/colab-badge.svg\" alt=\"Open In Colab\"/></a>"
      ]
    },
    {
      "cell_type": "code",
      "execution_count": 20,
      "metadata": {
        "colab": {
          "base_uri": "https://localhost:8080/"
        },
        "id": "C6RGgUv5Vohn",
        "outputId": "e05ee2cb-3ba3-4b35-bb66-42922a704311"
      },
      "outputs": [
        {
          "output_type": "stream",
          "name": "stdout",
          "text": [
            "                  Name  Age     Sex\n",
            "0           John smith   32    male\n",
            "1             Json Web   35    male\n",
            "2       Elena Ferrante   67  female\n",
            "3           Mr. Tintin   27    male\n",
            "4  Rabindranath Tagore   71    male\n",
            "5   Gangubai Kathiwadi   16  female\n",
            "6           Abala Bose   56  female\n"
          ]
        }
      ],
      "source": [
        "import pandas as pd\n",
        "\n",
        "data_frame_example = pd.DataFrame(\n",
        "    {\n",
        "        \"Name\": [\n",
        "            \"John smith\",\n",
        "            \"Json Web\",\n",
        "            \"Elena Ferrante\",\n",
        "            \"Mr. Tintin\",\n",
        "            \"Rabindranath Tagore\",\n",
        "            \"Gangubai Kathiwadi\",\n",
        "            \"Abala Bose\"\n",
        "            \n",
        "        ],\n",
        "        \"Age\": [32, 35, 67, 27, 71, 16, 56],\n",
        "        \"Sex\": [\"male\", \"male\", \"female\", \"male\", \"male\", \"female\", \"female\"],\n",
        "    }\n",
        ")\n",
        "\n",
        "print(data_frame_example)"
      ]
    },
    {
      "cell_type": "code",
      "source": [
        "print(data_frame_example['Age'])"
      ],
      "metadata": {
        "colab": {
          "base_uri": "https://localhost:8080/"
        },
        "id": "ZJD2g6IYYiG_",
        "outputId": "d02ce21c-a585-4926-e36d-1a7674302e98"
      },
      "execution_count": 11,
      "outputs": [
        {
          "output_type": "stream",
          "name": "stdout",
          "text": [
            "0    32\n",
            "1    35\n",
            "2    67\n",
            "3    27\n",
            "4    71\n",
            "5    16\n",
            "6    56\n",
            "Name: Age, dtype: int64\n"
          ]
        }
      ]
    },
    {
      "cell_type": "markdown",
      "source": [
        "## In pandas column is known as Series\n",
        "#### As a result, we can create separate Series\n",
        "we can also use it as a method."
      ],
      "metadata": {
        "id": "Tz-HcKKLZFOr"
      }
    },
    {
      "cell_type": "code",
      "source": [
        "series = pd.Series([45, 19, 58, 78, 99])\n",
        "\n",
        "print(series)"
      ],
      "metadata": {
        "colab": {
          "base_uri": "https://localhost:8080/"
        },
        "id": "eHCT4gUNaAR9",
        "outputId": "1afb7f6b-997d-4465-841c-feda25ccb238"
      },
      "execution_count": 12,
      "outputs": [
        {
          "output_type": "stream",
          "name": "stdout",
          "text": [
            "0    45\n",
            "1    19\n",
            "2    58\n",
            "3    78\n",
            "4    99\n",
            "dtype: int64\n"
          ]
        }
      ]
    },
    {
      "cell_type": "code",
      "source": [
        "description_of_series = series.describe()\n",
        "print(description_of_series)"
      ],
      "metadata": {
        "colab": {
          "base_uri": "https://localhost:8080/"
        },
        "id": "BKKdJE3HabR_",
        "outputId": "df6bcf7a-56b9-4909-dc3b-9256fb6286fa"
      },
      "execution_count": 13,
      "outputs": [
        {
          "output_type": "stream",
          "name": "stdout",
          "text": [
            "count     5.000000\n",
            "mean     59.800000\n",
            "std      30.638211\n",
            "min      19.000000\n",
            "25%      45.000000\n",
            "50%      58.000000\n",
            "75%      78.000000\n",
            "max      99.000000\n",
            "dtype: float64\n"
          ]
        }
      ]
    },
    {
      "cell_type": "markdown",
      "source": [
        "# [We can describe the pandas data frame example also](https://sinhasanjib.com)"
      ],
      "metadata": {
        "id": "zoh_BiPWautM"
      }
    },
    {
      "cell_type": "code",
      "source": [
        "print(data_frame_example.describe())"
      ],
      "metadata": {
        "colab": {
          "base_uri": "https://localhost:8080/"
        },
        "id": "jLki0JD0a8oI",
        "outputId": "40773f48-0da6-4c14-9435-3025829ef994"
      },
      "execution_count": 14,
      "outputs": [
        {
          "output_type": "stream",
          "name": "stdout",
          "text": [
            "             Age\n",
            "count   7.000000\n",
            "mean   43.428571\n",
            "std    21.204222\n",
            "min    16.000000\n",
            "25%    29.500000\n",
            "50%    35.000000\n",
            "75%    61.500000\n",
            "max    71.000000\n"
          ]
        }
      ]
    },
    {
      "cell_type": "code",
      "source": [
        "print(data_frame_example['Age'].max())\n",
        "print(data_frame_example['Age'].min())"
      ],
      "metadata": {
        "colab": {
          "base_uri": "https://localhost:8080/"
        },
        "id": "i6j9V_XfbOEn",
        "outputId": "7a1cab53-9a2c-4da3-aeea-ed935abbbdf3"
      },
      "execution_count": 15,
      "outputs": [
        {
          "output_type": "stream",
          "name": "stdout",
          "text": [
            "71\n",
            "16\n"
          ]
        }
      ]
    }
  ]
}