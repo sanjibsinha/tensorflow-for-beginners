{
  "nbformat": 4,
  "nbformat_minor": 0,
  "metadata": {
    "colab": {
      "name": "slice-tensor.ipynb",
      "provenance": [],
      "collapsed_sections": [],
      "authorship_tag": "ABX9TyNPR5RUDz6OHIP4jorFrqoB",
      "include_colab_link": true
    },
    "kernelspec": {
      "name": "python3",
      "display_name": "Python 3"
    },
    "language_info": {
      "name": "python"
    }
  },
  "cells": [
    {
      "cell_type": "markdown",
      "metadata": {
        "id": "view-in-github",
        "colab_type": "text"
      },
      "source": [
        "<a href=\"https://colab.research.google.com/github/sanjibsinha/tensorflow-for-beginners/blob/google-colabs/slice_tensor.ipynb\" target=\"_parent\"><img src=\"https://colab.research.google.com/assets/colab-badge.svg\" alt=\"Open In Colab\"/></a>"
      ]
    },
    {
      "cell_type": "code",
      "execution_count": 5,
      "metadata": {
        "colab": {
          "base_uri": "https://localhost:8080/"
        },
        "id": "Op3LoEZ2joOh",
        "outputId": "4f16367c-4afb-4d05-9288-8d1a51eb2864"
      },
      "outputs": [
        {
          "output_type": "stream",
          "name": "stdout",
          "text": [
            "tf.Tensor(\n",
            "[[[0. 0. 0.]\n",
            "  [0. 0. 0.]]], shape=(1, 2, 3), dtype=float32)\n"
          ]
        }
      ],
      "source": [
        "import tensorflow as tf\n",
        "\n",
        "tensor_zero = tf.zeros([1,2,3])\n",
        "print(tensor_zero)\n"
      ]
    },
    {
      "cell_type": "code",
      "source": [
        "tensor_reshape_one = tf.reshape(tensor_zero, [3, 1, 2])\n",
        "print(tensor_reshape_one)"
      ],
      "metadata": {
        "colab": {
          "base_uri": "https://localhost:8080/"
        },
        "id": "oDT5_2nCk472",
        "outputId": "0f635fbb-b879-419a-a215-ef3ff331cf4d"
      },
      "execution_count": 6,
      "outputs": [
        {
          "output_type": "stream",
          "name": "stdout",
          "text": [
            "tf.Tensor(\n",
            "[[[0. 0.]]\n",
            "\n",
            " [[0. 0.]]\n",
            "\n",
            " [[0. 0.]]], shape=(3, 1, 2), dtype=float32)\n"
          ]
        }
      ]
    },
    {
      "cell_type": "code",
      "source": [
        "tensor_reshape_two = tf.reshape(tensor_zero, [3, 2, 1])\n",
        "print(tensor_reshape_two)"
      ],
      "metadata": {
        "colab": {
          "base_uri": "https://localhost:8080/"
        },
        "id": "-qNDUa8xlaXY",
        "outputId": "44bdb5b0-fc26-4cae-9fb3-60e4484c52cd"
      },
      "execution_count": 7,
      "outputs": [
        {
          "output_type": "stream",
          "name": "stdout",
          "text": [
            "tf.Tensor(\n",
            "[[[0.]\n",
            "  [0.]]\n",
            "\n",
            " [[0.]\n",
            "  [0.]]\n",
            "\n",
            " [[0.]\n",
            "  [0.]]], shape=(3, 2, 1), dtype=float32)\n"
          ]
        }
      ]
    },
    {
      "cell_type": "code",
      "source": [
        "tensor_reshape_three = tf.reshape(tensor_zero, [1, 3, 2])\n",
        "print(tensor_reshape_three)"
      ],
      "metadata": {
        "colab": {
          "base_uri": "https://localhost:8080/"
        },
        "id": "lokuFwm8lvyf",
        "outputId": "415b9525-96f1-4a98-e763-7b6ef92db798"
      },
      "execution_count": 8,
      "outputs": [
        {
          "output_type": "stream",
          "name": "stdout",
          "text": [
            "tf.Tensor(\n",
            "[[[0. 0.]\n",
            "  [0. 0.]\n",
            "  [0. 0.]]], shape=(1, 3, 2), dtype=float32)\n"
          ]
        }
      ]
    },
    {
      "cell_type": "code",
      "source": [
        "tensor_reshape_four = tf.reshape(tensor_zero, [2, 1, 3])\n",
        "print(tensor_reshape_four)"
      ],
      "metadata": {
        "colab": {
          "base_uri": "https://localhost:8080/"
        },
        "id": "U7cOSWLHmGRa",
        "outputId": "0fef49c5-b321-43c5-92ed-8164d8c72db9"
      },
      "execution_count": 9,
      "outputs": [
        {
          "output_type": "stream",
          "name": "stdout",
          "text": [
            "tf.Tensor(\n",
            "[[[0. 0. 0.]]\n",
            "\n",
            " [[0. 0. 0.]]], shape=(2, 1, 3), dtype=float32)\n"
          ]
        }
      ]
    },
    {
      "cell_type": "code",
      "source": [
        "tensor_reshape_five = tf.reshape(tensor_zero, [2, 3, 1])\n",
        "print(tensor_reshape_five)"
      ],
      "metadata": {
        "colab": {
          "base_uri": "https://localhost:8080/"
        },
        "id": "VbriwJ7TmShf",
        "outputId": "eb08abc8-3d03-491f-d45c-b9948b92196d"
      },
      "execution_count": 10,
      "outputs": [
        {
          "output_type": "stream",
          "name": "stdout",
          "text": [
            "tf.Tensor(\n",
            "[[[0.]\n",
            "  [0.]\n",
            "  [0.]]\n",
            "\n",
            " [[0.]\n",
            "  [0.]\n",
            "  [0.]]], shape=(2, 3, 1), dtype=float32)\n"
          ]
        }
      ]
    },
    {
      "cell_type": "markdown",
      "source": [
        "# We have tested all types of combinations\n",
        "### for all types of beginner friendly tensors examples please visit [My Blog on TensorFlow](https://sinhasanjib.com)"
      ],
      "metadata": {
        "id": "NmpvX5Z6munF"
      }
    }
  ]
}