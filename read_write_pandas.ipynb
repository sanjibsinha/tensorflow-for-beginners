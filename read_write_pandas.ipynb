{
  "nbformat": 4,
  "nbformat_minor": 0,
  "metadata": {
    "colab": {
      "name": "read-write-pandas.ipynb",
      "provenance": [],
      "collapsed_sections": [],
      "authorship_tag": "ABX9TyNVInlZ2xof+w7d6Csg4ANf",
      "include_colab_link": true
    },
    "kernelspec": {
      "name": "python3",
      "display_name": "Python 3"
    },
    "language_info": {
      "name": "python"
    }
  },
  "cells": [
    {
      "cell_type": "markdown",
      "metadata": {
        "id": "view-in-github",
        "colab_type": "text"
      },
      "source": [
        "<a href=\"https://colab.research.google.com/github/sanjibsinha/tensorflow-for-beginners/blob/numpy-matplotlib-pandas/read_write_pandas.ipynb\" target=\"_parent\"><img src=\"https://colab.research.google.com/assets/colab-badge.svg\" alt=\"Open In Colab\"/></a>"
      ]
    },
    {
      "cell_type": "code",
      "execution_count": null,
      "metadata": {
        "colab": {
          "base_uri": "https://localhost:8080/"
        },
        "id": "Kc2scoF7MX5Z",
        "outputId": "3ad82142-c9d2-4194-e1ab-4bdc2b33eac7"
      },
      "outputs": [
        {
          "output_type": "stream",
          "name": "stdout",
          "text": [
            "     total_bill   tip     sex smoker   day    time  size\n",
            "0         16.99  1.01  Female     No   Sun  Dinner     2\n",
            "1         10.34  1.66    Male     No   Sun  Dinner     3\n",
            "2         21.01  3.50    Male     No   Sun  Dinner     3\n",
            "3         23.68  3.31    Male     No   Sun  Dinner     2\n",
            "4         24.59  3.61  Female     No   Sun  Dinner     4\n",
            "..          ...   ...     ...    ...   ...     ...   ...\n",
            "239       29.03  5.92    Male     No   Sat  Dinner     3\n",
            "240       27.18  2.00  Female    Yes   Sat  Dinner     2\n",
            "241       22.67  2.00    Male    Yes   Sat  Dinner     2\n",
            "242       17.82  1.75    Male     No   Sat  Dinner     2\n",
            "243       18.78  3.00  Female     No  Thur  Dinner     2\n",
            "\n",
            "[244 rows x 7 columns]\n"
          ]
        }
      ],
      "source": [
        "import pandas as pd\n",
        "\n",
        "data_frame_pandas = pd.read_csv(\"https://raw.githubusercontent.com/pandas-dev/pandas/main/doc/data/tips.csv\")\n",
        "\n",
        "# print(data_frame_pandas)\n"
      ]
    },
    {
      "cell_type": "markdown",
      "source": [
        "## REMEMBER\n",
        "Import the package, aka import pandas as pd\n",
        "\n",
        "A table of data is stored as a pandas DataFrame\n",
        "\n",
        "Each column in a DataFrame is a Series\n",
        "\n",
        "You can do things by applying a method to a DataFrame or Series"
      ],
      "metadata": {
        "id": "IBg69i3mMnMp"
      }
    },
    {
      "cell_type": "code",
      "source": [
        "# print(data_frame_pandas.tail(8))"
      ],
      "metadata": {
        "colab": {
          "base_uri": "https://localhost:8080/"
        },
        "id": "bKifMXHCRP3Y",
        "outputId": "e6af76d1-4500-4da1-e92d-95b021e3602c"
      },
      "execution_count": null,
      "outputs": [
        {
          "output_type": "stream",
          "name": "stdout",
          "text": [
            "     total_bill   tip     sex smoker   day    time  size\n",
            "236       12.60  1.00    Male    Yes   Sat  Dinner     2\n",
            "237       32.83  1.17    Male    Yes   Sat  Dinner     2\n",
            "238       35.83  4.67  Female     No   Sat  Dinner     3\n",
            "239       29.03  5.92    Male     No   Sat  Dinner     3\n",
            "240       27.18  2.00  Female    Yes   Sat  Dinner     2\n",
            "241       22.67  2.00    Male    Yes   Sat  Dinner     2\n",
            "242       17.82  1.75    Male     No   Sat  Dinner     2\n",
            "243       18.78  3.00  Female     No  Thur  Dinner     2\n"
          ]
        }
      ]
    },
    {
      "cell_type": "code",
      "source": [
        "# print(data_frame_pandas.dtypes)"
      ],
      "metadata": {
        "colab": {
          "base_uri": "https://localhost:8080/"
        },
        "id": "bvdYVzbsRnrl",
        "outputId": "566f11ee-fb95-43a0-c6ee-4afde8effdba"
      },
      "execution_count": null,
      "outputs": [
        {
          "output_type": "stream",
          "name": "stdout",
          "text": [
            "total_bill    float64\n",
            "tip           float64\n",
            "sex            object\n",
            "smoker         object\n",
            "day            object\n",
            "time           object\n",
            "size            int64\n",
            "dtype: object\n"
          ]
        }
      ]
    },
    {
      "cell_type": "markdown",
      "source": [
        "### We can transer the entire data to a spreadshet"
      ],
      "metadata": {
        "id": "yOaOXCinSa_3"
      }
    },
    {
      "cell_type": "code",
      "source": [
        "import magic\n",
        "\n",
        "data_frame_pandas.to_excel(\"tips.xlsx\", sheet_name=\"passengers\", index=False)\n",
        "\n",
        "print(magic.from_file('tips.xlsx'))\n",
        "# printing the mime type of the file\n",
        "print(magic.from_file('tips.xlsx', mime = True))\n",
        "\n",
        "reading_excel_data = pd.read_excel(\"tips.xlsx\", sheet_name=\"passengers\")\n",
        "\n",
        "# print(reading_excel_data)"
      ],
      "metadata": {
        "colab": {
          "base_uri": "https://localhost:8080/"
        },
        "id": "bwIPWFQbSlTO",
        "outputId": "7ecaf114-cb23-4d67-8bb9-caf714808322"
      },
      "execution_count": 46,
      "outputs": [
        {
          "output_type": "stream",
          "name": "stdout",
          "text": [
            "Zip archive data, at least v2.0 to extract\n",
            "application/zip\n"
          ]
        }
      ]
    },
    {
      "cell_type": "code",
      "source": [
        "# print(reading_excel_data.dtypes)"
      ],
      "metadata": {
        "colab": {
          "base_uri": "https://localhost:8080/"
        },
        "id": "sg66JhfbTznb",
        "outputId": "0068aec3-767e-461f-a889-3f38dc567cb2"
      },
      "execution_count": null,
      "outputs": [
        {
          "output_type": "stream",
          "name": "stdout",
          "text": [
            "total_bill    float64\n",
            "tip           float64\n",
            "sex            object\n",
            "smoker         object\n",
            "day            object\n",
            "time           object\n",
            "size            int64\n",
            "dtype: object\n"
          ]
        }
      ]
    },
    {
      "cell_type": "code",
      "source": [
        "print(reading_excel_data.info())"
      ],
      "metadata": {
        "colab": {
          "base_uri": "https://localhost:8080/"
        },
        "id": "_82omFdvUlft",
        "outputId": "f2a782f8-30a8-4692-fa6b-d7fa284c68c0"
      },
      "execution_count": null,
      "outputs": [
        {
          "output_type": "stream",
          "name": "stdout",
          "text": [
            "<class 'pandas.core.frame.DataFrame'>\n",
            "RangeIndex: 244 entries, 0 to 243\n",
            "Data columns (total 7 columns):\n",
            " #   Column      Non-Null Count  Dtype  \n",
            "---  ------      --------------  -----  \n",
            " 0   total_bill  244 non-null    float64\n",
            " 1   tip         244 non-null    float64\n",
            " 2   sex         244 non-null    object \n",
            " 3   smoker      244 non-null    object \n",
            " 4   day         244 non-null    object \n",
            " 5   time        244 non-null    object \n",
            " 6   size        244 non-null    int64  \n",
            "dtypes: float64(2), int64(1), object(4)\n",
            "memory usage: 13.5+ KB\n",
            "None\n"
          ]
        }
      ]
    },
    {
      "cell_type": "code",
      "source": [
        "# reading_json_data = pd.read_json(\"https://dummyjson.com/quotes\")\n",
        "# print(reading_json_data)\n",
        "# Note: by default you will get 30 results and the total count, you can pass \"skip\" & \"limit\" query string to get more results.\n",
        "# For example: /posts?skip=5&limit=10"
      ],
      "metadata": {
        "colab": {
          "base_uri": "https://localhost:8080/"
        },
        "id": "Uo886_TGVXah",
        "outputId": "7a86cb98-47b4-4a25-cf52-338cd5053dcb"
      },
      "execution_count": null,
      "outputs": [
        {
          "output_type": "stream",
          "name": "stdout",
          "text": [
            "                                               quotes  total  skip  limit\n",
            "0   {'id': 1, 'quote': 'Life isn’t about getting a...    100     0     30\n",
            "1   {'id': 2, 'quote': 'Whatever the mind of man c...    100     0     30\n",
            "2   {'id': 3, 'quote': 'Strive not to be a success...    100     0     30\n",
            "3   {'id': 4, 'quote': 'Two roads diverged in a wo...    100     0     30\n",
            "4   {'id': 5, 'quote': 'I attribute my success to ...    100     0     30\n",
            "5   {'id': 6, 'quote': 'You miss 100% of the shots...    100     0     30\n",
            "6   {'id': 7, 'quote': 'I’ve missed more than 9000...    100     0     30\n",
            "7   {'id': 8, 'quote': 'The most difficult thing i...    100     0     30\n",
            "8   {'id': 9, 'quote': 'Every strike brings me clo...    100     0     30\n",
            "9   {'id': 10, 'quote': 'Definiteness of purpose i...    100     0     30\n",
            "10  {'id': 11, 'quote': 'We must balance conspicuo...    100     0     30\n",
            "11  {'id': 12, 'quote': 'Life is what happens to y...    100     0     30\n",
            "12  {'id': 13, 'quote': 'We become what we think a...    100     0     30\n",
            "13  {'id': 14, 'quote': 'Twenty years from now you...    100     0     30\n",
            "14  {'id': 15, 'quote': 'Life is 10% what happens ...    100     0     30\n",
            "15  {'id': 16, 'quote': 'The most common way peopl...    100     0     30\n",
            "16  {'id': 17, 'quote': 'The mind is everything. W...    100     0     30\n",
            "17  {'id': 18, 'quote': 'The best time to plant a ...    100     0     30\n",
            "18  {'id': 19, 'quote': 'An unexamined life is not...    100     0     30\n",
            "19  {'id': 20, 'quote': 'Eighty percent of success...    100     0     30\n",
            "20  {'id': 21, 'quote': 'Your time is limited, so ...    100     0     30\n",
            "21  {'id': 22, 'quote': 'Winning isn’t everything,...    100     0     30\n",
            "22  {'id': 23, 'quote': 'I am not a product of my ...    100     0     30\n",
            "23  {'id': 24, 'quote': 'Every child is an artist....    100     0     30\n",
            "24  {'id': 25, 'quote': 'You can never cross the o...    100     0     30\n",
            "25  {'id': 26, 'quote': 'I’ve learned that people ...    100     0     30\n",
            "26  {'id': 27, 'quote': 'Either you run the day, o...    100     0     30\n",
            "27  {'id': 28, 'quote': 'Whether you think you can...    100     0     30\n",
            "28  {'id': 29, 'quote': 'The two most important da...    100     0     30\n",
            "29  {'id': 30, 'quote': 'Whatever you can do, or d...    100     0     30\n"
          ]
        }
      ]
    },
    {
      "cell_type": "code",
      "source": [
        "# print(reading_json_data.head(5))"
      ],
      "metadata": {
        "colab": {
          "base_uri": "https://localhost:8080/"
        },
        "id": "6I6sK9_EV9o6",
        "outputId": "f5446594-44c0-40cf-d4bb-9efed247de41"
      },
      "execution_count": null,
      "outputs": [
        {
          "output_type": "stream",
          "name": "stdout",
          "text": [
            "                                              quotes  total  skip  limit\n",
            "0  {'id': 1, 'quote': 'Life isn’t about getting a...    100     0     30\n",
            "1  {'id': 2, 'quote': 'Whatever the mind of man c...    100     0     30\n",
            "2  {'id': 3, 'quote': 'Strive not to be a success...    100     0     30\n",
            "3  {'id': 4, 'quote': 'Two roads diverged in a wo...    100     0     30\n",
            "4  {'id': 5, 'quote': 'I attribute my success to ...    100     0     30\n"
          ]
        }
      ]
    },
    {
      "cell_type": "code",
      "source": [
        "# print(reading_json_data.info())"
      ],
      "metadata": {
        "colab": {
          "base_uri": "https://localhost:8080/"
        },
        "id": "z8Y0U52qWTgF",
        "outputId": "b62805f6-a21b-4d0b-c16e-9bc4bfff922e"
      },
      "execution_count": null,
      "outputs": [
        {
          "output_type": "stream",
          "name": "stdout",
          "text": [
            "<class 'pandas.core.frame.DataFrame'>\n",
            "RangeIndex: 30 entries, 0 to 29\n",
            "Data columns (total 4 columns):\n",
            " #   Column  Non-Null Count  Dtype \n",
            "---  ------  --------------  ----- \n",
            " 0   quotes  30 non-null     object\n",
            " 1   total   30 non-null     int64 \n",
            " 2   skip    30 non-null     int64 \n",
            " 3   limit   30 non-null     int64 \n",
            "dtypes: int64(3), object(1)\n",
            "memory usage: 1.1+ KB\n",
            "None\n"
          ]
        }
      ]
    },
    {
      "cell_type": "code",
      "source": [
        "# ?skip=5&limit=10\n",
        "\n",
        "reading_json_data = pd.read_json(\"https://dummyjson.com/quotes/?skip=5&limit=10\")\n",
        "# print(reading_json_data)"
      ],
      "metadata": {
        "colab": {
          "base_uri": "https://localhost:8080/"
        },
        "id": "9XQ3DyX8WxK3",
        "outputId": "1c594f2b-e3c8-4819-c5d7-144b2b53a8c0"
      },
      "execution_count": null,
      "outputs": [
        {
          "output_type": "stream",
          "name": "stdout",
          "text": [
            "                                              quotes  total  skip  limit\n",
            "0  {'id': 6, 'quote': 'You miss 100% of the shots...    100     5     10\n",
            "1  {'id': 7, 'quote': 'I’ve missed more than 9000...    100     5     10\n",
            "2  {'id': 8, 'quote': 'The most difficult thing i...    100     5     10\n",
            "3  {'id': 9, 'quote': 'Every strike brings me clo...    100     5     10\n",
            "4  {'id': 10, 'quote': 'Definiteness of purpose i...    100     5     10\n",
            "5  {'id': 11, 'quote': 'We must balance conspicuo...    100     5     10\n",
            "6  {'id': 12, 'quote': 'Life is what happens to y...    100     5     10\n",
            "7  {'id': 13, 'quote': 'We become what we think a...    100     5     10\n",
            "8  {'id': 14, 'quote': 'Twenty years from now you...    100     5     10\n",
            "9  {'id': 15, 'quote': 'Life is 10% what happens ...    100     5     10\n"
          ]
        }
      ]
    },
    {
      "cell_type": "markdown",
      "source": [
        "## JSON to CSV"
      ],
      "metadata": {
        "id": "NJGFtHnXcC0O"
      }
    },
    {
      "cell_type": "code",
      "source": [
        "reading_json_data.to_csv(\"quotes.csv\")\n",
        "\n",
        "\n",
        "# reading_csv_data = pd.read_csv(\"quotes.csv\")\n",
        "\n",
        "# print(reading_csv_data.info())"
      ],
      "metadata": {
        "id": "OhN9VY_DcGM3"
      },
      "execution_count": 43,
      "outputs": []
    },
    {
      "cell_type": "code",
      "source": [
        "# print(reading_csv_data.head(3))"
      ],
      "metadata": {
        "colab": {
          "base_uri": "https://localhost:8080/"
        },
        "id": "IUGIFm0kfaUM",
        "outputId": "2036241c-196b-4ded-dbd7-898245dfdb33"
      },
      "execution_count": 26,
      "outputs": [
        {
          "output_type": "stream",
          "name": "stdout",
          "text": [
            "                                              quotes  total  skip  limit\n",
            "0  {'id': 6, 'quote': 'You miss 100% of the shots...    100     5     10\n",
            "1  {'id': 7, 'quote': 'I’ve missed more than 9000...    100     5     10\n",
            "2  {'id': 8, 'quote': 'The most difficult thing i...    100     5     10\n"
          ]
        }
      ]
    },
    {
      "cell_type": "code",
      "source": [
        "!apt-get install libmagic-dev\n"
      ],
      "metadata": {
        "colab": {
          "base_uri": "https://localhost:8080/"
        },
        "id": "yFJPHWkMkNrd",
        "outputId": "5e8684e7-6370-4347-ee18-559b06bad0bb"
      },
      "execution_count": 37,
      "outputs": [
        {
          "output_type": "stream",
          "name": "stdout",
          "text": [
            "Reading package lists... Done\n",
            "Building dependency tree       \n",
            "Reading state information... Done\n",
            "The following package was automatically installed and is no longer required:\n",
            "  libnvidia-common-460\n",
            "Use 'apt autoremove' to remove it.\n",
            "The following additional packages will be installed:\n",
            "  libmagic-mgc libmagic1\n",
            "Suggested packages:\n",
            "  file\n",
            "The following NEW packages will be installed:\n",
            "  libmagic-dev libmagic-mgc libmagic1\n",
            "0 upgraded, 3 newly installed, 0 to remove and 49 not upgraded.\n",
            "Need to get 332 kB of archives.\n",
            "After this operation, 5,552 kB of additional disk space will be used.\n",
            "Get:1 http://archive.ubuntu.com/ubuntu bionic-updates/main amd64 libmagic-mgc amd64 1:5.32-2ubuntu0.4 [184 kB]\n",
            "Get:2 http://archive.ubuntu.com/ubuntu bionic-updates/main amd64 libmagic1 amd64 1:5.32-2ubuntu0.4 [68.6 kB]\n",
            "Get:3 http://archive.ubuntu.com/ubuntu bionic-updates/main amd64 libmagic-dev amd64 1:5.32-2ubuntu0.4 [79.7 kB]\n",
            "Fetched 332 kB in 0s (3,526 kB/s)\n",
            "Selecting previously unselected package libmagic-mgc.\n",
            "(Reading database ... 155639 files and directories currently installed.)\n",
            "Preparing to unpack .../libmagic-mgc_1%3a5.32-2ubuntu0.4_amd64.deb ...\n",
            "Unpacking libmagic-mgc (1:5.32-2ubuntu0.4) ...\n",
            "Selecting previously unselected package libmagic1:amd64.\n",
            "Preparing to unpack .../libmagic1_1%3a5.32-2ubuntu0.4_amd64.deb ...\n",
            "Unpacking libmagic1:amd64 (1:5.32-2ubuntu0.4) ...\n",
            "Selecting previously unselected package libmagic-dev:amd64.\n",
            "Preparing to unpack .../libmagic-dev_1%3a5.32-2ubuntu0.4_amd64.deb ...\n",
            "Unpacking libmagic-dev:amd64 (1:5.32-2ubuntu0.4) ...\n",
            "Setting up libmagic-mgc (1:5.32-2ubuntu0.4) ...\n",
            "Setting up libmagic1:amd64 (1:5.32-2ubuntu0.4) ...\n",
            "Setting up libmagic-dev:amd64 (1:5.32-2ubuntu0.4) ...\n",
            "Processing triggers for man-db (2.8.3-2ubuntu0.1) ...\n",
            "Processing triggers for libc-bin (2.27-3ubuntu1.3) ...\n",
            "/sbin/ldconfig.real: /usr/local/lib/python3.7/dist-packages/ideep4py/lib/libmkldnn.so.0 is not a symbolic link\n",
            "\n"
          ]
        }
      ]
    },
    {
      "cell_type": "code",
      "source": [
        "!pip install python-magic"
      ],
      "metadata": {
        "colab": {
          "base_uri": "https://localhost:8080/"
        },
        "id": "F7prGx47pOa-",
        "outputId": "a1d8da0d-258f-4c9a-9b91-d388aa73b688"
      },
      "execution_count": 38,
      "outputs": [
        {
          "output_type": "stream",
          "name": "stdout",
          "text": [
            "Looking in indexes: https://pypi.org/simple, https://us-python.pkg.dev/colab-wheels/public/simple/\n",
            "Collecting python-magic\n",
            "  Downloading python_magic-0.4.27-py2.py3-none-any.whl (13 kB)\n",
            "Installing collected packages: python-magic\n",
            "Successfully installed python-magic-0.4.27\n"
          ]
        }
      ]
    },
    {
      "cell_type": "code",
      "source": [
        "import magic\n",
        "\n",
        "# printing the human readable type of the file\n",
        "print(magic.from_file('quotes.csv'))\n",
        "\n",
        "# printing the mime type of the file\n",
        "print(magic.from_file('quotes.csv', mime = True))"
      ],
      "metadata": {
        "colab": {
          "base_uri": "https://localhost:8080/"
        },
        "id": "92endAtQpT3x",
        "outputId": "6e826f40-56fb-4d13-ff78-69252cea59dc"
      },
      "execution_count": 42,
      "outputs": [
        {
          "output_type": "stream",
          "name": "stdout",
          "text": [
            "UTF-8 Unicode text\n",
            "text/plain\n"
          ]
        }
      ]
    },
    {
      "cell_type": "code",
      "source": [
        ""
      ],
      "metadata": {
        "id": "JnGUFr_UqzYK"
      },
      "execution_count": 44,
      "outputs": []
    }
  ]
}