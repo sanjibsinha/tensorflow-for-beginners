{
  "nbformat": 4,
  "nbformat_minor": 0,
  "metadata": {
    "colab": {
      "name": "third-t.ipynb",
      "provenance": [],
      "authorship_tag": "ABX9TyOwRLmh4/a/4RBiOEyiDZAu",
      "include_colab_link": true
    },
    "kernelspec": {
      "name": "python3",
      "display_name": "Python 3"
    },
    "language_info": {
      "name": "python"
    }
  },
  "cells": [
    {
      "cell_type": "markdown",
      "metadata": {
        "id": "view-in-github",
        "colab_type": "text"
      },
      "source": [
        "<a href=\"https://colab.research.google.com/github/sanjibsinha/tensorflow-for-beginners/blob/google-colabs/third_t.ipynb\" target=\"_parent\"><img src=\"https://colab.research.google.com/assets/colab-badge.svg\" alt=\"Open In Colab\"/></a>"
      ]
    },
    {
      "cell_type": "code",
      "execution_count": 1,
      "metadata": {
        "colab": {
          "base_uri": "https://localhost:8080/"
        },
        "id": "x6EnDvvODRkj",
        "outputId": "e194a0a9-0c6e-475e-bdc6-3b1ca0fcb35e"
      },
      "outputs": [
        {
          "output_type": "stream",
          "name": "stdout",
          "text": [
            "tf.Tensor(\n",
            "[[11. 21. 31.]\n",
            " [41. 51. 61.]], shape=(2, 3), dtype=float32)\n",
            "Addition of two TensorFlow: [[ 22.  42.  62.]\n",
            " [ 82. 102. 122.]]\n",
            "Multiplication of two TensorFlow: [[ 22.  42.  62.]\n",
            " [ 82. 102. 122.]]\n",
            "[[11. 21. 31.]\n",
            " [41. 51. 61.]]\n",
            "Addition of two NumPy Tensors: [[ 22.  42.  62.]\n",
            " [ 82. 102. 122.]]\n",
            "Multiplication of two NumPy Tensors: [[ 22.  42.  62.]\n",
            " [ 82. 102. 122.]]\n",
            "(2, 3)\n",
            "(2, 3)\n",
            "<dtype: 'float32'>\n",
            "float64\n"
          ]
        }
      ],
      "source": [
        "import tensorflow as tf\n",
        "import numpy as np\n",
        "\n",
        "\n",
        "x = tf.constant([[11., 21., 31.],\n",
        "                 [41., 51., 61.]])\n",
        "y = np.array([[11., 21., 31.],\n",
        "                 [41., 51., 61.]])\n",
        "\n",
        "print(x)\n",
        "print(f'Addition of two TensorFlow: {x + x}')\n",
        "print(f'Multiplication of two TensorFlow: {2 * x}')\n",
        "print(y)\n",
        "print(f'Addition of two NumPy Tensors: {y + y}')\n",
        "print(f'Multiplication of two NumPy Tensors: {2 * y}')\n",
        "\n",
        "print(x.shape)\n",
        "print(y.shape)\n",
        "\n",
        "print(x.dtype)\n",
        "print(y.dtype)"
      ]
    }
  ]
}