{
  "nbformat": 4,
  "nbformat_minor": 0,
  "metadata": {
    "colab": {
      "name": "tensor-product.ipynb",
      "provenance": [],
      "collapsed_sections": [],
      "authorship_tag": "ABX9TyOlNb8oeAt8wYc0jprMaTu3",
      "include_colab_link": true
    },
    "kernelspec": {
      "name": "python3",
      "display_name": "Python 3"
    },
    "language_info": {
      "name": "python"
    }
  },
  "cells": [
    {
      "cell_type": "markdown",
      "metadata": {
        "id": "view-in-github",
        "colab_type": "text"
      },
      "source": [
        "<a href=\"https://colab.research.google.com/github/sanjibsinha/tensorflow-for-beginners/blob/google-colabs/tensor_product.ipynb\" target=\"_parent\"><img src=\"https://colab.research.google.com/assets/colab-badge.svg\" alt=\"Open In Colab\"/></a>"
      ]
    },
    {
      "cell_type": "code",
      "execution_count": 3,
      "metadata": {
        "colab": {
          "base_uri": "https://localhost:8080/"
        },
        "id": "PSNDcrOiD9Fa",
        "outputId": "bc712a84-ffeb-4d75-b7fe-dcdc6c49de6b"
      },
      "outputs": [
        {
          "output_type": "stream",
          "name": "stdout",
          "text": [
            "tf.Tensor(\n",
            "[[11. 21. 31.]\n",
            " [41. 51. 61.]], shape=(2, 3), dtype=float32)\n",
            "Addition of two TensorFlow: [[ 22.  42.  62.]\n",
            " [ 82. 102. 122.]]\n",
            "Multiplication of a Tensor with a scalar: [[ 22.  42.  62.]\n",
            " [ 82. 102. 122.]]\n",
            "Multiplication of two TensorFlow: [[1523. 3413.]\n",
            " [3413. 8003.]]\n",
            "[[[1 2]\n",
            "  [3 4]]\n",
            "\n",
            " [[5 6]\n",
            "  [7 8]]]\n",
            "[['a' 'b']\n",
            " ['c' 'd']]\n",
            "Multiplication of one NumPy Tensor with a scalar: [[[ 2  4]\n",
            "  [ 6  8]]\n",
            "\n",
            " [[10 12]\n",
            "  [14 16]]]\n",
            "Multiplication of two NumPy Tensors: ['abbcccdddd' 'aaaaabbbbbbcccccccdddddddd']\n",
            "(2, 3)\n",
            "(2, 2, 2)\n",
            "(2, 2)\n",
            "<dtype: 'float32'>\n",
            "int64\n",
            "object\n"
          ]
        }
      ],
      "source": [
        "import tensorflow as tf\n",
        "import numpy as np\n",
        "\n",
        "\n",
        "x = tf.constant([[11., 21., 31.],\n",
        "                 [41., 51., 61.]])\n",
        "y1 = np.array([[[1, 2],\n",
        "        [3, 4]],\n",
        "       [[5, 6],\n",
        "        [7, 8]]])\n",
        "\n",
        "y2 = np.array([['a', 'b'],\n",
        "       ['c', 'd']], dtype=object)\n",
        "\n",
        "print(x)\n",
        "print(f'Addition of two TensorFlow: {x + x}')\n",
        "print(f'Multiplication of a Tensor with a scalar: {2 * x}')\n",
        "print(f'Multiplication of two TensorFlow: {x @ tf.transpose(x)}')\n",
        "\n",
        "print(y1)\n",
        "print(y2)\n",
        "\n",
        "print(f'Multiplication of one NumPy Tensor with a scalar: {2 * y1}')\n",
        "print(f'Multiplication of two NumPy Tensors: {np.tensordot(y1, y2)}')\n",
        "\n",
        "print(x.shape)\n",
        "print(y1.shape)\n",
        "print(y2.shape)\n",
        "\n",
        "print(x.dtype)\n",
        "print(y1.dtype)\n",
        "print(y2.dtype)"
      ]
    }
  ]
}