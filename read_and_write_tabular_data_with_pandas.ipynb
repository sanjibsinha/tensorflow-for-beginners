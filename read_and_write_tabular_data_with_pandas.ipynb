{
  "nbformat": 4,
  "nbformat_minor": 0,
  "metadata": {
    "colab": {
      "name": "read-and-write-tabular-data-with-pandas.ipynb",
      "provenance": [],
      "collapsed_sections": [],
      "authorship_tag": "ABX9TyMsjJOJCgEVB5YcBB1KmolN",
      "include_colab_link": true
    },
    "kernelspec": {
      "name": "python3",
      "display_name": "Python 3"
    },
    "language_info": {
      "name": "python"
    }
  },
  "cells": [
    {
      "cell_type": "markdown",
      "metadata": {
        "id": "view-in-github",
        "colab_type": "text"
      },
      "source": [
        "<a href=\"https://colab.research.google.com/github/sanjibsinha/tensorflow-for-beginners/blob/google-colabs/read_and_write_tabular_data_with_pandas.ipynb\" target=\"_parent\"><img src=\"https://colab.research.google.com/assets/colab-badge.svg\" alt=\"Open In Colab\"/></a>"
      ]
    },
    {
      "cell_type": "code",
      "execution_count": 1,
      "metadata": {
        "colab": {
          "base_uri": "https://localhost:8080/"
        },
        "id": "znVXdvP7qeuJ",
        "outputId": "4664aa7a-2455-4f7c-b7aa-706f7db7922c"
      },
      "outputs": [
        {
          "output_type": "stream",
          "name": "stdout",
          "text": [
            "     survived     sex   age  n_siblings_spouses  parch     fare   class  \\\n",
            "0           0    male  22.0                   1      0   7.2500   Third   \n",
            "1           1  female  38.0                   1      0  71.2833   First   \n",
            "2           1  female  26.0                   0      0   7.9250   Third   \n",
            "3           1  female  35.0                   1      0  53.1000   First   \n",
            "4           0    male  28.0                   0      0   8.4583   Third   \n",
            "..        ...     ...   ...                 ...    ...      ...     ...   \n",
            "622         0    male  28.0                   0      0  10.5000  Second   \n",
            "623         0    male  25.0                   0      0   7.0500   Third   \n",
            "624         1  female  19.0                   0      0  30.0000   First   \n",
            "625         0  female  28.0                   1      2  23.4500   Third   \n",
            "626         0    male  32.0                   0      0   7.7500   Third   \n",
            "\n",
            "        deck  embark_town alone  \n",
            "0    unknown  Southampton     n  \n",
            "1          C    Cherbourg     n  \n",
            "2    unknown  Southampton     y  \n",
            "3          C  Southampton     n  \n",
            "4    unknown   Queenstown     y  \n",
            "..       ...          ...   ...  \n",
            "622  unknown  Southampton     y  \n",
            "623  unknown  Southampton     y  \n",
            "624        B  Southampton     y  \n",
            "625  unknown  Southampton     n  \n",
            "626  unknown   Queenstown     y  \n",
            "\n",
            "[627 rows x 10 columns]\n"
          ]
        }
      ],
      "source": [
        "import pandas as pd\n",
        "\n",
        "titanic_train = pd.read_csv(\"https://storage.googleapis.com/tf-datasets/titanic/train.csv\")\n",
        "\n",
        "print(titanic_train)"
      ]
    },
    {
      "cell_type": "code",
      "source": [
        "titanic_eval = pd.read_csv(\"https://storage.googleapis.com/tf-datasets/titanic/eval.csv\")\n",
        "\n",
        "print(titanic_eval)"
      ],
      "metadata": {
        "colab": {
          "base_uri": "https://localhost:8080/"
        },
        "id": "VfYNkWSLrOaj",
        "outputId": "05063adb-a5fb-46cb-f1b7-2408881e0106"
      },
      "execution_count": 2,
      "outputs": [
        {
          "output_type": "stream",
          "name": "stdout",
          "text": [
            "     survived     sex   age  n_siblings_spouses  parch     fare   class  \\\n",
            "0           0    male  35.0                   0      0   8.0500   Third   \n",
            "1           0    male  54.0                   0      0  51.8625   First   \n",
            "2           1  female  58.0                   0      0  26.5500   First   \n",
            "3           1  female  55.0                   0      0  16.0000  Second   \n",
            "4           1    male  34.0                   0      0  13.0000  Second   \n",
            "..        ...     ...   ...                 ...    ...      ...     ...   \n",
            "259         1  female  25.0                   0      1  26.0000  Second   \n",
            "260         0    male  33.0                   0      0   7.8958   Third   \n",
            "261         0  female  39.0                   0      5  29.1250   Third   \n",
            "262         0    male  27.0                   0      0  13.0000  Second   \n",
            "263         1    male  26.0                   0      0  30.0000   First   \n",
            "\n",
            "        deck  embark_town alone  \n",
            "0    unknown  Southampton     y  \n",
            "1          E  Southampton     y  \n",
            "2          C  Southampton     y  \n",
            "3    unknown  Southampton     y  \n",
            "4          D  Southampton     y  \n",
            "..       ...          ...   ...  \n",
            "259  unknown  Southampton     n  \n",
            "260  unknown  Southampton     y  \n",
            "261  unknown   Queenstown     n  \n",
            "262  unknown  Southampton     y  \n",
            "263        C    Cherbourg     y  \n",
            "\n",
            "[264 rows x 10 columns]\n"
          ]
        }
      ]
    },
    {
      "cell_type": "code",
      "source": [
        "first_five_rows = titanic_eval.head(5)\n",
        "\n",
        "print(first_five_rows)"
      ],
      "metadata": {
        "colab": {
          "base_uri": "https://localhost:8080/"
        },
        "id": "ATuKWQDFr1lq",
        "outputId": "2a3c0c20-d72d-44c1-97cc-302a012c2443"
      },
      "execution_count": 8,
      "outputs": [
        {
          "output_type": "stream",
          "name": "stdout",
          "text": [
            "   survived     sex   age  n_siblings_spouses  parch     fare   class  \\\n",
            "0         0    male  35.0                   0      0   8.0500   Third   \n",
            "1         0    male  54.0                   0      0  51.8625   First   \n",
            "2         1  female  58.0                   0      0  26.5500   First   \n",
            "3         1  female  55.0                   0      0  16.0000  Second   \n",
            "4         1    male  34.0                   0      0  13.0000  Second   \n",
            "\n",
            "      deck  embark_town alone  \n",
            "0  unknown  Southampton     y  \n",
            "1        E  Southampton     y  \n",
            "2        C  Southampton     y  \n",
            "3  unknown  Southampton     y  \n",
            "4        D  Southampton     y  \n"
          ]
        }
      ]
    },
    {
      "cell_type": "code",
      "source": [
        "print(pd.read_csv(\"https://storage.googleapis.com/tf-datasets/titanic/train.csv\").head(3))"
      ],
      "metadata": {
        "colab": {
          "base_uri": "https://localhost:8080/"
        },
        "id": "1563e5uDtVqj",
        "outputId": "9acd3521-d104-46d8-e8cb-ec140ec7e0ea"
      },
      "execution_count": 10,
      "outputs": [
        {
          "output_type": "stream",
          "name": "stdout",
          "text": [
            "   survived     sex   age  n_siblings_spouses  parch     fare  class     deck  \\\n",
            "0         0    male  22.0                   1      0   7.2500  Third  unknown   \n",
            "1         1  female  38.0                   1      0  71.2833  First        C   \n",
            "2         1  female  26.0                   0      0   7.9250  Third  unknown   \n",
            "\n",
            "   embark_town alone  \n",
            "0  Southampton     n  \n",
            "1    Cherbourg     n  \n",
            "2  Southampton     y  \n"
          ]
        }
      ]
    },
    {
      "cell_type": "code",
      "source": [
        "data_frame_shape = pd.read_csv(\"https://storage.googleapis.com/tf-datasets/titanic/train.csv\")\n",
        "\n",
        "print(data_frame_shape.shape)"
      ],
      "metadata": {
        "colab": {
          "base_uri": "https://localhost:8080/"
        },
        "id": "NXJwrwPmuRan",
        "outputId": "0c8a04e4-549d-4101-906e-ec212665166e"
      },
      "execution_count": 11,
      "outputs": [
        {
          "output_type": "stream",
          "name": "stdout",
          "text": [
            "(627, 10)\n"
          ]
        }
      ]
    },
    {
      "cell_type": "markdown",
      "source": [
        "## Trying to read from Pandas GitHub repo of CSV data"
      ],
      "metadata": {
        "id": "eZ1R-3c9v-sO"
      }
    },
    {
      "cell_type": "code",
      "source": [
        "weather_quality_station = pd.read_csv(\"https://raw.githubusercontent.com/pandas-dev/pandas/main/doc/data/air_quality_stations.csv\")\n",
        "\n",
        "print(weather_quality_station)"
      ],
      "metadata": {
        "colab": {
          "base_uri": "https://localhost:8080/"
        },
        "id": "f6dPwWlUxopo",
        "outputId": "1d7a1a47-9caa-4eb8-c842-51caad7ab900"
      },
      "execution_count": 14,
      "outputs": [
        {
          "output_type": "stream",
          "name": "stdout",
          "text": [
            "                      location  coordinates.latitude  coordinates.longitude\n",
            "0                      BELAL01              51.23619                4.38522\n",
            "1                      BELHB23              51.17030                4.34100\n",
            "2                      BELLD01              51.10998                5.00486\n",
            "3                      BELLD02              51.12038                5.02155\n",
            "4                      BELR833              51.32766                4.36226\n",
            "..                         ...                   ...                    ...\n",
            "61             Southend-on-Sea              51.54420                0.67841\n",
            "62  Southwark A2 Old Kent Road              51.48050               -0.05955\n",
            "63                    Thurrock              51.47707                0.31797\n",
            "64      Tower Hamlets Roadside              51.52253               -0.04216\n",
            "65        Groton Fort Griswold              41.35360              -72.07890\n",
            "\n",
            "[66 rows x 3 columns]\n"
          ]
        }
      ]
    }
  ]
}