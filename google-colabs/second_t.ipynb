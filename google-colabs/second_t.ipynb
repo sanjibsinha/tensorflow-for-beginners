{
  "nbformat": 4,
  "nbformat_minor": 0,
  "metadata": {
    "colab": {
      "name": "second-t.ipynb",
      "provenance": [],
      "collapsed_sections": [],
      "authorship_tag": "ABX9TyPedBEoA7VJpuyzS0Yd1RRs",
      "include_colab_link": true
    },
    "kernelspec": {
      "name": "python3",
      "display_name": "Python 3"
    },
    "language_info": {
      "name": "python"
    }
  },
  "cells": [
    {
      "cell_type": "markdown",
      "metadata": {
        "id": "view-in-github",
        "colab_type": "text"
      },
      "source": [
        "<a href=\"https://colab.research.google.com/github/sanjibsinha/tensorflow-for-beginners/blob/google-colabs/second_t.ipynb\" target=\"_parent\"><img src=\"https://colab.research.google.com/assets/colab-badge.svg\" alt=\"Open In Colab\"/></a>"
      ]
    },
    {
      "cell_type": "code",
      "execution_count": 2,
      "metadata": {
        "colab": {
          "base_uri": "https://localhost:8080/"
        },
        "id": "NX1T8YmhAoXL",
        "outputId": "773dd61b-569e-4fdd-860a-ea3a4eb4eef0"
      },
      "outputs": [
        {
          "output_type": "stream",
          "name": "stdout",
          "text": [
            "tf.Tensor(\n",
            "[[11. 21. 31.]\n",
            " [41. 51. 61.]], shape=(2, 3), dtype=float32)\n",
            "[[11. 21. 31.]\n",
            " [41. 51. 61.]]\n",
            "(2, 3)\n",
            "(2, 3)\n",
            "<dtype: 'float32'>\n",
            "float64\n"
          ]
        }
      ],
      "source": [
        "import tensorflow as tf\n",
        "import numpy as np\n",
        "\n",
        "\n",
        "x = tf.constant([[11., 21., 31.],\n",
        "                 [41., 51., 61.]])\n",
        "y = np.array([[11., 21., 31.],\n",
        "                 [41., 51., 61.]])\n",
        "\n",
        "print(x)\n",
        "print(y)\n",
        "\n",
        "print(x.shape)\n",
        "print(y.shape)\n",
        "\n",
        "print(x.dtype)\n",
        "print(y.dtype)"
      ]
    }
  ]
}