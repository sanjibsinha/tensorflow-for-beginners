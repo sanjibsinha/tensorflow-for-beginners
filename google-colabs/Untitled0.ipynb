{
  "nbformat": 4,
  "nbformat_minor": 0,
  "metadata": {
    "colab": {
      "name": "Untitled0.ipynb",
      "provenance": [],
      "collapsed_sections": [],
      "authorship_tag": "ABX9TyNAABgDnAlEeAhyvp6Tow6x",
      "include_colab_link": true
    },
    "kernelspec": {
      "name": "python3",
      "display_name": "Python 3"
    },
    "language_info": {
      "name": "python"
    }
  },
  "cells": [
    {
      "cell_type": "markdown",
      "metadata": {
        "id": "view-in-github",
        "colab_type": "text"
      },
      "source": [
        "<a href=\"https://colab.research.google.com/github/sanjibsinha/tensorflow-for-beginners/blob/google-colabs/Untitled0.ipynb\" target=\"_parent\"><img src=\"https://colab.research.google.com/assets/colab-badge.svg\" alt=\"Open In Colab\"/></a>"
      ]
    },
    {
      "cell_type": "code",
      "execution_count": 2,
      "metadata": {
        "colab": {
          "base_uri": "https://localhost:8080/"
        },
        "id": "Kfx5KfwRJzsY",
        "outputId": "efe3a18d-7742-46b5-cac0-cab2dde9c4b8"
      },
      "outputs": [
        {
          "output_type": "stream",
          "name": "stdout",
          "text": [
            "Mean: 3.0\n"
          ]
        }
      ],
      "source": [
        "import numpy as np\n",
        "\n",
        "\n",
        "mean = 0.0\n",
        "median = 0.0\n",
        "\n",
        "def find_mean(the_array, num):\n",
        "  sum = 0.0\n",
        "  i = 0\n",
        "  while(i < num):\n",
        "    sum = sum + the_array[i]\n",
        "    i = i + 1\n",
        "  mean = sum / num\n",
        "  return mean\n",
        "the_array = np.array([1, 2, 3, 4, 5])\n",
        "length_of_array = len(the_array)\n",
        "print(f'Mean: {find_mean(the_array, length_of_array)}')\n"
      ]
    }
  ]
}