{
  "nbformat": 4,
  "nbformat_minor": 0,
  "metadata": {
    "colab": {
      "name": "tensorflow-basic-operations.ipynb",
      "provenance": [],
      "collapsed_sections": [],
      "authorship_tag": "ABX9TyNXlD3De3pdv8WGaNSrJBGT",
      "include_colab_link": true
    },
    "kernelspec": {
      "name": "python3",
      "display_name": "Python 3"
    },
    "language_info": {
      "name": "python"
    }
  },
  "cells": [
    {
      "cell_type": "markdown",
      "metadata": {
        "id": "view-in-github",
        "colab_type": "text"
      },
      "source": [
        "<a href=\"https://colab.research.google.com/github/sanjibsinha/tensorflow-for-beginners/blob/google-colabs/tensorflow_basic_operations.ipynb\" target=\"_parent\"><img src=\"https://colab.research.google.com/assets/colab-badge.svg\" alt=\"Open In Colab\"/></a>"
      ]
    },
    {
      "cell_type": "code",
      "execution_count": 4,
      "metadata": {
        "colab": {
          "base_uri": "https://localhost:8080/"
        },
        "id": "PYpvshYlNigv",
        "outputId": "fcffc43a-5d8c-4b16-ebff-fb39070a7434"
      },
      "outputs": [
        {
          "output_type": "stream",
          "name": "stdout",
          "text": [
            "tf.Tensor(\n",
            "[[11. 21. 31.]\n",
            " [41. 51. 61.]], shape=(2, 3), dtype=float32)\n",
            "Addition of two TensorFlow: [[ 22.  42.  62.]\n",
            " [ 82. 102. 122.]]\n",
            "Subtraction of two TensorFlow: [[ 22.  42.  62.]\n",
            " [ 82. 102. 122.]]\n",
            "Multiplication of a Tensor with a scalar: [[ 22.  42.  62.]\n",
            " [ 82. 102. 122.]]\n",
            "Division of a Tensor by a scalar: [[ 5.5 10.5 15.5]\n",
            " [20.5 25.5 30.5]]\n",
            "Multiplication of two TensorFlow: [[1523. 3413.]\n",
            " [3413. 8003.]]\n",
            "(2, 3)\n",
            "<dtype: 'float32'>\n"
          ]
        }
      ],
      "source": [
        "import tensorflow as tf\n",
        "\n",
        "\n",
        "x = tf.constant([[11., 21., 31.],\n",
        "                 [41., 51., 61.]])\n",
        "\n",
        "\n",
        "print(x)\n",
        "print(f'Addition of two TensorFlow: {x + x}')\n",
        "print(f'Subtraction of two TensorFlow: {x + x}')\n",
        "print(f'Multiplication of a Tensor with a scalar: {2 * x}')\n",
        "print(f'Division of a Tensor by a scalar: {x / 2}')\n",
        "print(f'Multiplication of two TensorFlow: {x @ tf.transpose(x)}')\n",
        "\n",
        "print(x.shape)\n",
        "\n",
        "print(x.dtype)"
      ]
    }
  ]
}