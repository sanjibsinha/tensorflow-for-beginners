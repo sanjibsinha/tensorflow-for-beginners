{
  "nbformat": 4,
  "nbformat_minor": 0,
  "metadata": {
    "colab": {
      "name": "slice_tensor.ipynb",
      "provenance": [],
      "collapsed_sections": [],
      "authorship_tag": "ABX9TyMvOEnb0kWPUefYJAzPX3Fd",
      "include_colab_link": true
    },
    "kernelspec": {
      "name": "python3",
      "display_name": "Python 3"
    },
    "language_info": {
      "name": "python"
    }
  },
  "cells": [
    {
      "cell_type": "markdown",
      "metadata": {
        "id": "view-in-github",
        "colab_type": "text"
      },
      "source": [
        "<a href=\"https://colab.research.google.com/github/sanjibsinha/tensorflow-for-beginners/blob/google-colabs/slice_tensor.ipynb\" target=\"_parent\"><img src=\"https://colab.research.google.com/assets/colab-badge.svg\" alt=\"Open In Colab\"/></a>"
      ]
    },
    {
      "cell_type": "code",
      "execution_count": 3,
      "metadata": {
        "colab": {
          "base_uri": "https://localhost:8080/"
        },
        "id": "OdLxxJpIqssB",
        "outputId": "4c9b7c77-669a-4237-c665-b1352e84403c"
      },
      "outputs": [
        {
          "output_type": "stream",
          "name": "stdout",
          "text": [
            "tf.Tensor(2, shape=(), dtype=int32)\n",
            "(10, 5)\n"
          ]
        }
      ],
      "source": [
        "import tensorflow as tf\n",
        "\n",
        "\n",
        "# Creating a 2D our_tensor of 10 rows and 5 columns\n",
        "our_matrix = [[1,2,3,4,5],\n",
        "          [6,7,8,9,10],\n",
        "          [11,12,13,14,15],\n",
        "          [16,17,18,19,20],\n",
        "          [21,22,23,24,25], \n",
        "          [26,27,28,29,30],\n",
        "          [31,32,33,34,35],\n",
        "          [36,37,38,39,40],\n",
        "          [41,42,43,44,45],\n",
        "          [46,47,48,49,50]]\n",
        "\n",
        "our_tensor = tf.Variable(our_matrix, dtype=tf.int32) \n",
        "print(tf.rank(our_tensor))\n",
        "print(our_tensor.shape)"
      ]
    },
    {
      "cell_type": "code",
      "source": [
        "# we can select different rows and columns from the above our_tensor\n",
        "\n",
        "first_row_fourth_element = our_tensor[0, 3]  # selecting the 4th element from the 1st row\n",
        "print(f'First row, fourth element: {first_row_fourth_element}')  # -> 4\n",
        "\n",
        "second_row = our_tensor[2]  # selecting the second row\n",
        "print(f'Second row: {second_row}')\n",
        "\n",
        "second_column = our_tensor[:, 1]  # selects the second column\n",
        "print(f'Second column: {second_column}')\n",
        "\n",
        "eleminating_one_row_and_then_eliminate_three_rows_in_succession = our_tensor[1::4]  # \n",
        "print(f'Eleminating one row and then three rows in succession: {eleminating_one_row_and_then_eliminate_three_rows_in_succession}')\n",
        "\n",
        "eleminating_two_rows_and_then_eliminate_five_rows_in_succession = our_tensor[2::5]  # \n",
        "print(f'Eleminating two rows and then five rows in succession: {eleminating_two_rows_and_then_eliminate_five_rows_in_succession}')\n",
        "\n",
        "second_column_in_row_one_and_four = our_tensor[0:5, 1]\n",
        "print(f'Values from the first row to the fifth row belonging to the second column: {second_column_in_row_one_and_four}')"
      ],
      "metadata": {
        "colab": {
          "base_uri": "https://localhost:8080/"
        },
        "id": "gO0QxSHntpb1",
        "outputId": "a068abde-c65c-4ec9-e756-96176bbe4290"
      },
      "execution_count": 6,
      "outputs": [
        {
          "output_type": "stream",
          "name": "stdout",
          "text": [
            "First row, fourth element: 4\n",
            "Second row: [11 12 13 14 15]\n",
            "Second column: [ 2  7 12 17 22 27 32 37 42 47]\n",
            "Eleminating one row and then three rows in succession: [[ 6  7  8  9 10]\n",
            " [26 27 28 29 30]\n",
            " [46 47 48 49 50]]\n",
            "Eleminating two rows and then five rows in succession: [[11 12 13 14 15]\n",
            " [36 37 38 39 40]]\n",
            "Values from the first row to the fifth row belonging to the second column: [ 2  7 12 17 22]\n"
          ]
        }
      ]
    }
  ]
}