{
  "nbformat": 4,
  "nbformat_minor": 0,
  "metadata": {
    "colab": {
      "name": "tf-intro.ipynb",
      "provenance": [],
      "collapsed_sections": [],
      "authorship_tag": "ABX9TyNLzNiyB4WxQ4nhhZ1S16XG",
      "include_colab_link": true
    },
    "kernelspec": {
      "name": "python3",
      "display_name": "Python 3"
    },
    "language_info": {
      "name": "python"
    }
  },
  "cells": [
    {
      "cell_type": "markdown",
      "metadata": {
        "id": "view-in-github",
        "colab_type": "text"
      },
      "source": [
        "<a href=\"https://colab.research.google.com/github/sanjibsinha/tensorflow-for-beginners/blob/google-colabs/tf_intro.ipynb\" target=\"_parent\"><img src=\"https://colab.research.google.com/assets/colab-badge.svg\" alt=\"Open In Colab\"/></a>"
      ]
    },
    {
      "cell_type": "code",
      "execution_count": null,
      "metadata": {
        "colab": {
          "base_uri": "https://localhost:8080/"
        },
        "id": "QzYZ01w-7Ls6",
        "outputId": "a4ed67a6-68a1-43cc-a8eb-3b982325f2c3"
      },
      "outputs": [
        {
          "output_type": "stream",
          "name": "stdout",
          "text": [
            "<module 'tensorflow._api.v2.version' from '/usr/local/lib/python3.7/dist-packages/tensorflow/_api/v2/version/__init__.py'>\n"
          ]
        }
      ],
      "source": [
        "import tensorflow as tf  \n",
        "print(tf.version)  "
      ]
    },
    {
      "cell_type": "code",
      "source": [
        "string = tf.Variable(\"Here a string\", tf.string) \n",
        "number = tf.Variable(3244444444555, tf.int64)\n",
        "floating = tf.Variable(456233.567845896123, tf.float64)\n",
        "\n",
        "print(string)\n",
        "print(number)\n",
        "print(floating)"
      ],
      "metadata": {
        "colab": {
          "base_uri": "https://localhost:8080/"
        },
        "id": "0CeSlneX7cU5",
        "outputId": "c4b873e3-12d4-4a2f-a5f4-7f15d1d91825"
      },
      "execution_count": null,
      "outputs": [
        {
          "output_type": "stream",
          "name": "stdout",
          "text": [
            "<tf.Variable 'Variable:0' shape=() dtype=string, numpy=b'Here a string'>\n",
            "<tf.Variable 'Variable:0' shape=() dtype=int64, numpy=3244444444555>\n",
            "<tf.Variable 'Variable:0' shape=() dtype=float32, numpy=456233.56>\n"
          ]
        }
      ]
    },
    {
      "cell_type": "code",
      "source": [
        "rank_one_tensor = tf.Variable([\"One Dimension\"], tf.string) \n",
        "rank_two_tensor = tf.Variable([[\"Two Dimension\", \"Two Dimension\"], [\"Two Dimension\", \"Two Dimension\"]], tf.string)\n",
        "\n",
        "print(rank_one_tensor)\n",
        "print(rank_two_tensor)\n",
        "\n",
        "print(rank_one_tensor.shape) # shape: how many elements present\n",
        "print(rank_two_tensor.shape)\n",
        "\n",
        "rank_two = tf.ones([2, 3, 6])\n",
        "tensor_two = tf.reshape(rank_two, [1, 3, 12])\n",
        "print(tensor_two)\n",
        "print(rank_one_tensor.shape)\n"
      ],
      "metadata": {
        "colab": {
          "base_uri": "https://localhost:8080/"
        },
        "id": "tOdBk8W_8LZW",
        "outputId": "8c3acdd1-f6ec-4230-fd93-edf88a38c239"
      },
      "execution_count": null,
      "outputs": [
        {
          "output_type": "stream",
          "name": "stdout",
          "text": [
            "<tf.Variable 'Variable:0' shape=(1,) dtype=string, numpy=array([b'One Dimension'], dtype=object)>\n",
            "<tf.Variable 'Variable:0' shape=(2, 2) dtype=string, numpy=\n",
            "array([[b'Two Dimension', b'Two Dimension'],\n",
            "       [b'Two Dimension', b'Two Dimension']], dtype=object)>\n",
            "(1,)\n",
            "(2, 2)\n",
            "tf.Tensor(\n",
            "[[[1. 1. 1. 1. 1. 1. 1. 1. 1. 1. 1. 1.]\n",
            "  [1. 1. 1. 1. 1. 1. 1. 1. 1. 1. 1. 1.]\n",
            "  [1. 1. 1. 1. 1. 1. 1. 1. 1. 1. 1. 1.]]], shape=(1, 3, 12), dtype=float32)\n",
            "(1,)\n"
          ]
        }
      ]
    },
    {
      "cell_type": "code",
      "source": [
        ""
      ],
      "metadata": {
        "id": "vsq-bD8S9R9m"
      },
      "execution_count": null,
      "outputs": []
    },
    {
      "cell_type": "code",
      "source": [
        ""
      ],
      "metadata": {
        "id": "yR9HD_6X76xI"
      },
      "execution_count": null,
      "outputs": []
    }
  ]
}