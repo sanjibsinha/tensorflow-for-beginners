{
  "nbformat": 4,
  "nbformat_minor": 0,
  "metadata": {
    "colab": {
      "name": "linear_regression_one.ipynb",
      "provenance": [],
      "collapsed_sections": [],
      "authorship_tag": "ABX9TyOCq4+iUDD0vMDrBf8AnuYE",
      "include_colab_link": true
    },
    "kernelspec": {
      "name": "python3",
      "display_name": "Python 3"
    },
    "language_info": {
      "name": "python"
    }
  },
  "cells": [
    {
      "cell_type": "markdown",
      "metadata": {
        "id": "view-in-github",
        "colab_type": "text"
      },
      "source": [
        "<a href=\"https://colab.research.google.com/github/sanjibsinha/tensorflow-for-beginners/blob/google-colabs/linear_regression_one.ipynb\" target=\"_parent\"><img src=\"https://colab.research.google.com/assets/colab-badge.svg\" alt=\"Open In Colab\"/></a>"
      ]
    },
    {
      "cell_type": "code",
      "execution_count": 26,
      "metadata": {
        "colab": {
          "base_uri": "https://localhost:8080/",
          "height": 279
        },
        "id": "R3W7BKUImaGP",
        "outputId": "4b5015cc-1b2d-49f4-e899-fd281fbb5586"
      },
      "outputs": [
        {
          "output_type": "display_data",
          "data": {
            "text/plain": [
              "<Figure size 432x288 with 1 Axes>"
            ],
            "image/png": "[encoded data removed]"
          },
          "metadata": {
            "needs_background": "light"
          }
        }
      ],
      "source": [
        "import matplotlib.pyplot as plt\n",
        "import numpy as np\n",
        "\n",
        "data = {\n",
        "    'c': np.random.randint(0, 20, 20),\n",
        "    'd': np.random.randint(0, 20, 20),\n",
        "    }\n",
        "a = data['c'] + 20 * np.random.randn(20)\n",
        "b = data['d'] + 20 * np.random.randn(20)\n",
        "data['d'] = np.abs(np.random.randn(20)) * 100\n",
        "\n",
        "plt.scatter('c', 'd',  data=data)\n",
        "plt.xlabel('entry a')\n",
        "plt.ylabel('entry b')\n",
        "plt.plot(np.unique(a), np.poly1d(np.polyfit(a, b, 2))(np.unique(b)))\n",
        "plt.show()"
      ]
    }
  ]
}