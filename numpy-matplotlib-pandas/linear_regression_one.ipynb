{
  "nbformat": 4,
  "nbformat_minor": 0,
  "metadata": {
    "colab": {
      "name": "linear_regression_one.ipynb",
      "provenance": [],
      "collapsed_sections": [],
      "authorship_tag": "ABX9TyPkyF+wg6gmekA/I2OiCeI/",
      "include_colab_link": true
    },
    "kernelspec": {
      "name": "python3",
      "display_name": "Python 3"
    },
    "language_info": {
      "name": "python"
    }
  },
  "cells": [
    {
      "cell_type": "markdown",
      "metadata": {
        "id": "view-in-github",
        "colab_type": "text"
      },
      "source": [
        "<a href=\"https://colab.research.google.com/github/sanjibsinha/tensorflow-for-beginners/blob/google-colabs/linear_regression_one.ipynb\" target=\"_parent\"><img src=\"https://colab.research.google.com/assets/colab-badge.svg\" alt=\"Open In Colab\"/></a>"
      ]
    },
    {
      "cell_type": "code",
      "execution_count": 9,
      "metadata": {
        "colab": {
          "base_uri": "https://localhost:8080/",
          "height": 279
        },
        "id": "R3W7BKUImaGP",
        "outputId": "58bf9e38-d804-476b-8078-fa4daea1ad03"
      },
      "outputs": [
        {
          "output_type": "display_data",
          "data": {
            "text/plain": [
              "<Figure size 432x288 with 1 Axes>"
            ],
            "image/png": "[encoded data removed]"
          },
          "metadata": {
            "needs_background": "light"
          }
        }
      ],
      "source": [
        "import matplotlib.pyplot as plt\n",
        "import numpy as np\n",
        "\n",
        "data = {\n",
        "    'c': np.random.randint(0, 5, 5),\n",
        "    'd': np.random.randint(0, 5, 5),\n",
        "    }\n",
        "a = data['c'] + 5 * np.random.randn(5)\n",
        "b = data['d'] + 5 * np.random.randn(5)\n",
        "data['d'] = np.abs(np.random.randn(5)) * 100\n",
        "b = data['d']\n",
        "\n",
        "plt.scatter('c', 'd',  data=data)\n",
        "plt.xlabel('entry a')\n",
        "plt.ylabel('entry b')\n",
        "plt.plot(np.unique(a), np.poly1d(np.polyfit(a, b, 1))(np.unique(a)), 'go--', linewidth=2, markersize=12)\n",
        "plt.show()"
      ]
    }
  ]
}