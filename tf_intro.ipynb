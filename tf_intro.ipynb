{
  "nbformat": 4,
  "nbformat_minor": 0,
  "metadata": {
    "colab": {
      "name": "tf-intro.ipynb",
      "provenance": [],
      "collapsed_sections": [],
      "authorship_tag": "ABX9TyPiUxKUXl+ZF/joXe4n1BGB",
      "include_colab_link": true
    },
    "kernelspec": {
      "name": "python3",
      "display_name": "Python 3"
    },
    "language_info": {
      "name": "python"
    }
  },
  "cells": [
    {
      "cell_type": "markdown",
      "metadata": {
        "id": "view-in-github",
        "colab_type": "text"
      },
      "source": [
        "<a href=\"https://colab.research.google.com/github/sanjibsinha/tensorflow-for-beginners/blob/google-colabs/tf_intro.ipynb\" target=\"_parent\"><img src=\"https://colab.research.google.com/assets/colab-badge.svg\" alt=\"Open In Colab\"/></a>"
      ]
    },
    {
      "cell_type": "code",
      "execution_count": 1,
      "metadata": {
        "colab": {
          "base_uri": "https://localhost:8080/"
        },
        "id": "QzYZ01w-7Ls6",
        "outputId": "a4ed67a6-68a1-43cc-a8eb-3b982325f2c3"
      },
      "outputs": [
        {
          "output_type": "stream",
          "name": "stdout",
          "text": [
            "<module 'tensorflow._api.v2.version' from '/usr/local/lib/python3.7/dist-packages/tensorflow/_api/v2/version/__init__.py'>\n"
          ]
        }
      ],
      "source": [
        "import tensorflow as tf  \n",
        "print(tf.version)  "
      ]
    },
    {
      "cell_type": "code",
      "source": [
        "string = tf.Variable(\"Here a string\", tf.string) \n",
        "number = tf.Variable(3244444444555, tf.int64)\n",
        "floating = tf.Variable(456233.567845896123, tf.float64)\n",
        "\n",
        "print(string)\n",
        "print(number)\n",
        "print(floating)"
      ],
      "metadata": {
        "colab": {
          "base_uri": "https://localhost:8080/"
        },
        "id": "0CeSlneX7cU5",
        "outputId": "c4b873e3-12d4-4a2f-a5f4-7f15d1d91825"
      },
      "execution_count": 4,
      "outputs": [
        {
          "output_type": "stream",
          "name": "stdout",
          "text": [
            "<tf.Variable 'Variable:0' shape=() dtype=string, numpy=b'Here a string'>\n",
            "<tf.Variable 'Variable:0' shape=() dtype=int64, numpy=3244444444555>\n",
            "<tf.Variable 'Variable:0' shape=() dtype=float32, numpy=456233.56>\n"
          ]
        }
      ]
    },
    {
      "cell_type": "code",
      "source": [
        ""
      ],
      "metadata": {
        "id": "yR9HD_6X76xI"
      },
      "execution_count": null,
      "outputs": []
    }
  ]
}