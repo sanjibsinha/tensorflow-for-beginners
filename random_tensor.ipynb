{
  "nbformat": 4,
  "nbformat_minor": 0,
  "metadata": {
    "colab": {
      "name": "random-tensor.ipynb",
      "provenance": [],
      "authorship_tag": "ABX9TyMB8exJuAz6NPRHVFXmlYMG",
      "include_colab_link": true
    },
    "kernelspec": {
      "name": "python3",
      "display_name": "Python 3"
    },
    "language_info": {
      "name": "python"
    }
  },
  "cells": [
    {
      "cell_type": "markdown",
      "metadata": {
        "id": "view-in-github",
        "colab_type": "text"
      },
      "source": [
        "<a href=\"https://colab.research.google.com/github/sanjibsinha/tensorflow-for-beginners/blob/google-colabs/random_tensor.ipynb\" target=\"_parent\"><img src=\"https://colab.research.google.com/assets/colab-badge.svg\" alt=\"Open In Colab\"/></a>"
      ]
    },
    {
      "cell_type": "code",
      "execution_count": 2,
      "metadata": {
        "colab": {
          "base_uri": "https://localhost:8080/"
        },
        "id": "9lQ4bSIzsj-M",
        "outputId": "ed175d55-cfac-4c30-b231-0ae0f26b0fe1"
      },
      "outputs": [
        {
          "output_type": "execute_result",
          "data": {
            "text/plain": [
              "(<tf.Tensor: shape=(3, 2), dtype=float32, numpy=\n",
              " array([[-0.7565803 , -0.06854702],\n",
              "        [ 0.07595026, -1.2573844 ],\n",
              "        [-0.23193763, -1.8107855 ]], dtype=float32)>,\n",
              " <tf.Tensor: shape=(3, 2), dtype=float32, numpy=\n",
              " array([[-0.7565803 , -0.06854702],\n",
              "        [ 0.07595026, -1.2573844 ],\n",
              "        [-0.23193763, -1.8107855 ]], dtype=float32)>,\n",
              " <tf.Tensor: shape=(3, 2), dtype=bool, numpy=\n",
              " array([[ True,  True],\n",
              "        [ True,  True],\n",
              "        [ True,  True]])>)"
            ]
          },
          "metadata": {},
          "execution_count": 2
        }
      ],
      "source": [
        "import tensorflow as tf\n",
        "\n",
        "\n",
        "# Create two random (but the same) tensors\n",
        "random_one = tf.random.Generator.from_seed(42) # set the seed for reproducibility\n",
        "random_one = random_one.normal(shape=(3, 2)) # create tensor from a normal distribution \n",
        "random_two = tf.random.Generator.from_seed(42)\n",
        "random_two = random_two.normal(shape=(3, 2))\n",
        "\n",
        "# Are they equal?\n",
        "random_one, random_two, random_one == random_two"
      ]
    },
    {
      "cell_type": "code",
      "source": [
        ""
      ],
      "metadata": {
        "id": "3JHHrBdkuki8"
      },
      "execution_count": null,
      "outputs": []
    }
  ]
}